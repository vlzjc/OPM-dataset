{
 "cells": [
  {
   "cell_type": "code",
   "execution_count": 1,
   "id": "1bbedee4-ac9e-4c62-ad98-bdc6d7329b28",
   "metadata": {},
   "outputs": [],
   "source": [
    "import pandas as pd"
   ]
  },
  {
   "cell_type": "code",
   "execution_count": 2,
   "id": "f49dab34-76ea-43d1-8d1b-635712de6d28",
   "metadata": {},
   "outputs": [
    {
     "name": "stdout",
     "output_type": "stream",
     "text": [
      "                  song_id             song_title   artist_band duration  \\\n",
      "0  7w3RLT8BVECiAhzNHJ3fNN                 Manila        Hotdog     3:04   \n",
      "1  03aY6WbKaiZ6HFGNE74sR9                 Handog      Florante     3:41   \n",
      "2  2rPuNCmYXiAwYxChgZpamG  Ang Pag-Ibig Kong Ito  Leah Navarro     3:17   \n",
      "3  0qsZ4fVqS9LiasViHOXUHJ     Maging Sino Ka Man   RICO J PUNO     3:30   \n",
      "4  5sI9iU9xrrptFw9tLRY0F7                Katawan       Hagibis     6:08   \n",
      "\n",
      "                                         spotify_url  \\\n",
      "0  https://open.spotify.com/track/7w3RLT8BVECiAhz...   \n",
      "1  https://open.spotify.com/track/03aY6WbKaiZ6HFG...   \n",
      "2  https://open.spotify.com/track/2rPuNCmYXiAwYxC...   \n",
      "3  https://open.spotify.com/track/36cAv5b4AiVk0ba...   \n",
      "4  https://open.spotify.com/track/5sI9iU9xrrptFw9...   \n",
      "\n",
      "                            spotify_uri  \n",
      "0  spotify:track:7w3RLT8BVECiAhzNHJ3fNN  \n",
      "1  spotify:track:03aY6WbKaiZ6HFGNE74sR9  \n",
      "2  spotify:track:2rPuNCmYXiAwYxChgZpamG  \n",
      "3  spotify:track:0qsZ4fVqS9LiasViHOXUHJ  \n",
      "4  spotify:track:5sI9iU9xrrptFw9tLRY0F7  \n"
     ]
    }
   ],
   "source": [
    "# List of CSV files\n",
    "csv_files = [\"songlists_1.csv\", \"songlists_2.csv\", \"songlists_3.csv\", \"songlists_4.csv\"]\n",
    "\n",
    "# Read and combine them into one DataFrame\n",
    "df = pd.concat([pd.read_csv(file) for file in csv_files], ignore_index=True)\n",
    "\n",
    "# Display first few rows\n",
    "print(df.head())"
   ]
  },
  {
   "cell_type": "code",
   "execution_count": 3,
   "id": "e1a9b455-29cc-44f5-b56a-6f20812c1c31",
   "metadata": {},
   "outputs": [
    {
     "name": "stdout",
     "output_type": "stream",
     "text": [
      "✅ Merged CSV saved as 'songlists.csv'!\n"
     ]
    }
   ],
   "source": [
    "# Save the combined DataFrame to a single CSV file\n",
    "df.to_csv(\"songlists.csv\", index=False)\n",
    "\n",
    "print(\"✅ Merged CSV saved as 'songlists.csv'!\")"
   ]
  },
  {
   "cell_type": "code",
   "execution_count": null,
   "id": "9a6ba6fb-7fd2-4c6f-8134-7f9452c6ec8d",
   "metadata": {},
   "outputs": [],
   "source": [
    "df.head()"
   ]
  }
 ],
 "metadata": {
  "kernelspec": {
   "display_name": "Python 3 (ipykernel)",
   "language": "python",
   "name": "python3"
  },
  "language_info": {
   "codemirror_mode": {
    "name": "ipython",
    "version": 3
   },
   "file_extension": ".py",
   "mimetype": "text/x-python",
   "name": "python",
   "nbconvert_exporter": "python",
   "pygments_lexer": "ipython3",
   "version": "3.12.3"
  }
 },
 "nbformat": 4,
 "nbformat_minor": 5
}
