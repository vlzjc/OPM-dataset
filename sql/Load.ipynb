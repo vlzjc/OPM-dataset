{
 "cells": [
  {
   "cell_type": "code",
   "execution_count": 1,
   "id": "4e3cab1a-b642-4ef3-ad1b-fa5e42cb1b03",
   "metadata": {},
   "outputs": [],
   "source": [
    "import pandas as pd\n",
    "import numpy as np\n",
    "import mysql.connector"
   ]
  },
  {
   "cell_type": "code",
   "execution_count": 2,
   "id": "e16716f0-780d-49dc-95dc-c58d54912a14",
   "metadata": {},
   "outputs": [
    {
     "data": {
      "text/html": [
       "<div>\n",
       "<style scoped>\n",
       "    .dataframe tbody tr th:only-of-type {\n",
       "        vertical-align: middle;\n",
       "    }\n",
       "\n",
       "    .dataframe tbody tr th {\n",
       "        vertical-align: top;\n",
       "    }\n",
       "\n",
       "    .dataframe thead th {\n",
       "        text-align: right;\n",
       "    }\n",
       "</style>\n",
       "<table border=\"1\" class=\"dataframe\">\n",
       "  <thead>\n",
       "    <tr style=\"text-align: right;\">\n",
       "      <th></th>\n",
       "      <th>added_at</th>\n",
       "      <th>primary_color</th>\n",
       "      <th>video_thumbnail_url</th>\n",
       "      <th>is_local</th>\n",
       "      <th>added_by_external_urls_spotify</th>\n",
       "      <th>added_by_id</th>\n",
       "      <th>added_by_type</th>\n",
       "      <th>added_by_uri</th>\n",
       "      <th>track_preview_url</th>\n",
       "      <th>track_is_playable</th>\n",
       "      <th>...</th>\n",
       "      <th>Unnamed: 102</th>\n",
       "      <th>Unnamed: 103</th>\n",
       "      <th>Unnamed: 104</th>\n",
       "      <th>Unnamed: 105</th>\n",
       "      <th>Unnamed: 106</th>\n",
       "      <th>Unnamed: 107</th>\n",
       "      <th>Unnamed: 108</th>\n",
       "      <th>Unnamed: 109</th>\n",
       "      <th>Unnamed: 110</th>\n",
       "      <th>Unnamed: 111</th>\n",
       "    </tr>\n",
       "  </thead>\n",
       "  <tbody>\n",
       "    <tr>\n",
       "      <th>0</th>\n",
       "      <td>2022-03-11T14:53:12Z</td>\n",
       "      <td>NaN</td>\n",
       "      <td>NaN</td>\n",
       "      <td>False</td>\n",
       "      <td>https://open.spotify.com/user/thesoundsofspotify</td>\n",
       "      <td>thesoundsofspotify</td>\n",
       "      <td>user</td>\n",
       "      <td>spotify:user:thesoundsofspotify</td>\n",
       "      <td>https://p.scdn.co/mp3-preview/7de47ae31be52bb5...</td>\n",
       "      <td>TRUE</td>\n",
       "      <td>...</td>\n",
       "      <td>NaN</td>\n",
       "      <td>NaN</td>\n",
       "      <td>NaN</td>\n",
       "      <td>NaN</td>\n",
       "      <td>NaN</td>\n",
       "      <td>NaN</td>\n",
       "      <td>NaN</td>\n",
       "      <td>NaN</td>\n",
       "      <td>NaN</td>\n",
       "      <td>NaN</td>\n",
       "    </tr>\n",
       "    <tr>\n",
       "      <th>1</th>\n",
       "      <td>2022-03-04T19:43:13Z</td>\n",
       "      <td>NaN</td>\n",
       "      <td>NaN</td>\n",
       "      <td>False</td>\n",
       "      <td>https://open.spotify.com/user/thesoundsofspotify</td>\n",
       "      <td>thesoundsofspotify</td>\n",
       "      <td>user</td>\n",
       "      <td>spotify:user:thesoundsofspotify</td>\n",
       "      <td>https://p.scdn.co/mp3-preview/0372376291fc6887...</td>\n",
       "      <td>TRUE</td>\n",
       "      <td>...</td>\n",
       "      <td>NaN</td>\n",
       "      <td>NaN</td>\n",
       "      <td>NaN</td>\n",
       "      <td>NaN</td>\n",
       "      <td>NaN</td>\n",
       "      <td>NaN</td>\n",
       "      <td>NaN</td>\n",
       "      <td>NaN</td>\n",
       "      <td>NaN</td>\n",
       "      <td>NaN</td>\n",
       "    </tr>\n",
       "    <tr>\n",
       "      <th>2</th>\n",
       "      <td>2022-03-11T14:53:12Z</td>\n",
       "      <td>NaN</td>\n",
       "      <td>NaN</td>\n",
       "      <td>False</td>\n",
       "      <td>https://open.spotify.com/user/thesoundsofspotify</td>\n",
       "      <td>thesoundsofspotify</td>\n",
       "      <td>user</td>\n",
       "      <td>spotify:user:thesoundsofspotify</td>\n",
       "      <td>https://p.scdn.co/mp3-preview/8a27521dd44bab80...</td>\n",
       "      <td>TRUE</td>\n",
       "      <td>...</td>\n",
       "      <td>NaN</td>\n",
       "      <td>NaN</td>\n",
       "      <td>NaN</td>\n",
       "      <td>NaN</td>\n",
       "      <td>NaN</td>\n",
       "      <td>NaN</td>\n",
       "      <td>NaN</td>\n",
       "      <td>NaN</td>\n",
       "      <td>NaN</td>\n",
       "      <td>NaN</td>\n",
       "    </tr>\n",
       "    <tr>\n",
       "      <th>3</th>\n",
       "      <td>2022-05-06T14:28:46Z</td>\n",
       "      <td>NaN</td>\n",
       "      <td>NaN</td>\n",
       "      <td>False</td>\n",
       "      <td>https://open.spotify.com/user/thesoundsofspotify</td>\n",
       "      <td>thesoundsofspotify</td>\n",
       "      <td>user</td>\n",
       "      <td>spotify:user:thesoundsofspotify</td>\n",
       "      <td>https://p.scdn.co/mp3-preview/0ac4ddf96020a678...</td>\n",
       "      <td>TRUE</td>\n",
       "      <td>...</td>\n",
       "      <td>NaN</td>\n",
       "      <td>NaN</td>\n",
       "      <td>NaN</td>\n",
       "      <td>NaN</td>\n",
       "      <td>NaN</td>\n",
       "      <td>NaN</td>\n",
       "      <td>NaN</td>\n",
       "      <td>NaN</td>\n",
       "      <td>NaN</td>\n",
       "      <td>NaN</td>\n",
       "    </tr>\n",
       "    <tr>\n",
       "      <th>4</th>\n",
       "      <td>2022-03-04T19:43:13Z</td>\n",
       "      <td>NaN</td>\n",
       "      <td>NaN</td>\n",
       "      <td>False</td>\n",
       "      <td>https://open.spotify.com/user/thesoundsofspotify</td>\n",
       "      <td>thesoundsofspotify</td>\n",
       "      <td>user</td>\n",
       "      <td>spotify:user:thesoundsofspotify</td>\n",
       "      <td>https://p.scdn.co/mp3-preview/390c7ed030826fce...</td>\n",
       "      <td>TRUE</td>\n",
       "      <td>...</td>\n",
       "      <td>NaN</td>\n",
       "      <td>NaN</td>\n",
       "      <td>NaN</td>\n",
       "      <td>NaN</td>\n",
       "      <td>NaN</td>\n",
       "      <td>NaN</td>\n",
       "      <td>NaN</td>\n",
       "      <td>NaN</td>\n",
       "      <td>NaN</td>\n",
       "      <td>NaN</td>\n",
       "    </tr>\n",
       "  </tbody>\n",
       "</table>\n",
       "<p>5 rows × 112 columns</p>\n",
       "</div>"
      ],
      "text/plain": [
       "               added_at  primary_color  video_thumbnail_url  is_local  \\\n",
       "0  2022-03-11T14:53:12Z            NaN                  NaN     False   \n",
       "1  2022-03-04T19:43:13Z            NaN                  NaN     False   \n",
       "2  2022-03-11T14:53:12Z            NaN                  NaN     False   \n",
       "3  2022-05-06T14:28:46Z            NaN                  NaN     False   \n",
       "4  2022-03-04T19:43:13Z            NaN                  NaN     False   \n",
       "\n",
       "                     added_by_external_urls_spotify         added_by_id  \\\n",
       "0  https://open.spotify.com/user/thesoundsofspotify  thesoundsofspotify   \n",
       "1  https://open.spotify.com/user/thesoundsofspotify  thesoundsofspotify   \n",
       "2  https://open.spotify.com/user/thesoundsofspotify  thesoundsofspotify   \n",
       "3  https://open.spotify.com/user/thesoundsofspotify  thesoundsofspotify   \n",
       "4  https://open.spotify.com/user/thesoundsofspotify  thesoundsofspotify   \n",
       "\n",
       "  added_by_type                     added_by_uri  \\\n",
       "0          user  spotify:user:thesoundsofspotify   \n",
       "1          user  spotify:user:thesoundsofspotify   \n",
       "2          user  spotify:user:thesoundsofspotify   \n",
       "3          user  spotify:user:thesoundsofspotify   \n",
       "4          user  spotify:user:thesoundsofspotify   \n",
       "\n",
       "                                   track_preview_url track_is_playable  ...  \\\n",
       "0  https://p.scdn.co/mp3-preview/7de47ae31be52bb5...              TRUE  ...   \n",
       "1  https://p.scdn.co/mp3-preview/0372376291fc6887...              TRUE  ...   \n",
       "2  https://p.scdn.co/mp3-preview/8a27521dd44bab80...              TRUE  ...   \n",
       "3  https://p.scdn.co/mp3-preview/0ac4ddf96020a678...              TRUE  ...   \n",
       "4  https://p.scdn.co/mp3-preview/390c7ed030826fce...              TRUE  ...   \n",
       "\n",
       "   Unnamed: 102 Unnamed: 103 Unnamed: 104  Unnamed: 105  Unnamed: 106  \\\n",
       "0           NaN          NaN          NaN           NaN           NaN   \n",
       "1           NaN          NaN          NaN           NaN           NaN   \n",
       "2           NaN          NaN          NaN           NaN           NaN   \n",
       "3           NaN          NaN          NaN           NaN           NaN   \n",
       "4           NaN          NaN          NaN           NaN           NaN   \n",
       "\n",
       "  Unnamed: 107 Unnamed: 108 Unnamed: 109 Unnamed: 110 Unnamed: 111  \n",
       "0          NaN          NaN          NaN          NaN          NaN  \n",
       "1          NaN          NaN          NaN          NaN          NaN  \n",
       "2          NaN          NaN          NaN          NaN          NaN  \n",
       "3          NaN          NaN          NaN          NaN          NaN  \n",
       "4          NaN          NaN          NaN          NaN          NaN  \n",
       "\n",
       "[5 rows x 112 columns]"
      ]
     },
     "execution_count": 2,
     "metadata": {},
     "output_type": "execute_result"
    }
   ],
   "source": [
    "df = pd.read_csv('../output.csv')\n",
    "df.head()"
   ]
  },
  {
   "cell_type": "code",
   "execution_count": 3,
   "id": "0c1a1653-7321-45a1-af31-6573eb903d94",
   "metadata": {},
   "outputs": [
    {
     "data": {
      "text/plain": [
       "(3746, 112)"
      ]
     },
     "execution_count": 3,
     "metadata": {},
     "output_type": "execute_result"
    }
   ],
   "source": [
    "df.shape"
   ]
  },
  {
   "cell_type": "code",
   "execution_count": 4,
   "id": "f2882702-bd12-495e-a623-72d402037af6",
   "metadata": {},
   "outputs": [
    {
     "name": "stdout",
     "output_type": "stream",
     "text": [
      "<class 'pandas.core.frame.DataFrame'>\n",
      "RangeIndex: 3746 entries, 0 to 3745\n",
      "Columns: 112 entries, added_at to Unnamed: 111\n",
      "dtypes: bool(4), float64(2), int64(2), object(104)\n",
      "memory usage: 3.1+ MB\n"
     ]
    }
   ],
   "source": [
    "df.info()"
   ]
  },
  {
   "cell_type": "code",
   "execution_count": 5,
   "id": "a806ac6c-3e96-493d-b1c5-b42fb6796f30",
   "metadata": {},
   "outputs": [
    {
     "data": {
      "text/plain": [
       "added_at                             0\n",
       "primary_color                     3746\n",
       "video_thumbnail_url               3746\n",
       "is_local                             0\n",
       "added_by_external_urls_spotify       0\n",
       "                                  ... \n",
       "Unnamed: 107                      3743\n",
       "Unnamed: 108                      3745\n",
       "Unnamed: 109                      3745\n",
       "Unnamed: 110                      3745\n",
       "Unnamed: 111                      3745\n",
       "Length: 112, dtype: int64"
      ]
     },
     "execution_count": 5,
     "metadata": {},
     "output_type": "execute_result"
    }
   ],
   "source": [
    "df.isnull().sum()"
   ]
  },
  {
   "cell_type": "code",
   "execution_count": 6,
   "id": "7733abe7-cdf6-4cda-8dd3-dc49247379a7",
   "metadata": {},
   "outputs": [
    {
     "data": {
      "text/html": [
       "<div>\n",
       "<style scoped>\n",
       "    .dataframe tbody tr th:only-of-type {\n",
       "        vertical-align: middle;\n",
       "    }\n",
       "\n",
       "    .dataframe tbody tr th {\n",
       "        vertical-align: top;\n",
       "    }\n",
       "\n",
       "    .dataframe thead th {\n",
       "        text-align: right;\n",
       "    }\n",
       "</style>\n",
       "<table border=\"1\" class=\"dataframe\">\n",
       "  <thead>\n",
       "    <tr style=\"text-align: right;\">\n",
       "      <th></th>\n",
       "      <th>primary_color</th>\n",
       "      <th>video_thumbnail_url</th>\n",
       "      <th>track_album_images_1_height</th>\n",
       "      <th>track_album_images_2_height</th>\n",
       "    </tr>\n",
       "  </thead>\n",
       "  <tbody>\n",
       "    <tr>\n",
       "      <th>count</th>\n",
       "      <td>0.0</td>\n",
       "      <td>0.0</td>\n",
       "      <td>3746.000000</td>\n",
       "      <td>3746.000000</td>\n",
       "    </tr>\n",
       "    <tr>\n",
       "      <th>mean</th>\n",
       "      <td>NaN</td>\n",
       "      <td>NaN</td>\n",
       "      <td>309.076348</td>\n",
       "      <td>70.300053</td>\n",
       "    </tr>\n",
       "    <tr>\n",
       "      <th>std</th>\n",
       "      <td>NaN</td>\n",
       "      <td>NaN</td>\n",
       "      <td>54.812228</td>\n",
       "      <td>38.046134</td>\n",
       "    </tr>\n",
       "    <tr>\n",
       "      <th>min</th>\n",
       "      <td>NaN</td>\n",
       "      <td>NaN</td>\n",
       "      <td>300.000000</td>\n",
       "      <td>64.000000</td>\n",
       "    </tr>\n",
       "    <tr>\n",
       "      <th>25%</th>\n",
       "      <td>NaN</td>\n",
       "      <td>NaN</td>\n",
       "      <td>300.000000</td>\n",
       "      <td>64.000000</td>\n",
       "    </tr>\n",
       "    <tr>\n",
       "      <th>50%</th>\n",
       "      <td>NaN</td>\n",
       "      <td>NaN</td>\n",
       "      <td>300.000000</td>\n",
       "      <td>64.000000</td>\n",
       "    </tr>\n",
       "    <tr>\n",
       "      <th>75%</th>\n",
       "      <td>NaN</td>\n",
       "      <td>NaN</td>\n",
       "      <td>300.000000</td>\n",
       "      <td>64.000000</td>\n",
       "    </tr>\n",
       "    <tr>\n",
       "      <th>max</th>\n",
       "      <td>NaN</td>\n",
       "      <td>NaN</td>\n",
       "      <td>640.000000</td>\n",
       "      <td>300.000000</td>\n",
       "    </tr>\n",
       "  </tbody>\n",
       "</table>\n",
       "</div>"
      ],
      "text/plain": [
       "       primary_color  video_thumbnail_url  track_album_images_1_height  \\\n",
       "count            0.0                  0.0                  3746.000000   \n",
       "mean             NaN                  NaN                   309.076348   \n",
       "std              NaN                  NaN                    54.812228   \n",
       "min              NaN                  NaN                   300.000000   \n",
       "25%              NaN                  NaN                   300.000000   \n",
       "50%              NaN                  NaN                   300.000000   \n",
       "75%              NaN                  NaN                   300.000000   \n",
       "max              NaN                  NaN                   640.000000   \n",
       "\n",
       "       track_album_images_2_height  \n",
       "count                  3746.000000  \n",
       "mean                     70.300053  \n",
       "std                      38.046134  \n",
       "min                      64.000000  \n",
       "25%                      64.000000  \n",
       "50%                      64.000000  \n",
       "75%                      64.000000  \n",
       "max                     300.000000  "
      ]
     },
     "execution_count": 6,
     "metadata": {},
     "output_type": "execute_result"
    }
   ],
   "source": [
    "df.describe()"
   ]
  },
  {
   "cell_type": "code",
   "execution_count": 13,
   "id": "e8fe7eca-e754-4112-ad10-903fee3fb191",
   "metadata": {},
   "outputs": [
    {
     "data": {
      "text/plain": [
       "array(['thesoundsofspotify', 'particlefilter',\n",
       "       '31smjqj7ebivm6x7gfrk4wb3i6dm', '213jix5qkzbdmcpladmzioppa',\n",
       "       'jyhra99st5nhex8kfo4um2dh7', 'n8riveraaa', nan, '12149447262',\n",
       "       'lezliemalagu', '12167396932', 'r4efloexmx0bewcpsrcg3xbou',\n",
       "       'jesssssxx', 'xrod6jvpskjxtxpdmggfavwyh',\n",
       "       '31e6t66l5k7o7tzd6pfu6zzglhqy', '3fuy94b7rys5xb8gdvib64osf',\n",
       "       '313g3woft7s54bslss2r7fav3nki'], dtype=object)"
      ]
     },
     "execution_count": 13,
     "metadata": {},
     "output_type": "execute_result"
    }
   ],
   "source": [
    "df[\"added_by_id\"].unique()"
   ]
  },
  {
   "cell_type": "code",
   "execution_count": 7,
   "id": "20476079-949d-4a0b-b10a-7437fccfb943",
   "metadata": {},
   "outputs": [
    {
     "data": {
      "text/plain": [
       "Index(['added_at', 'primary_color', 'video_thumbnail_url', 'is_local',\n",
       "       'added_by_external_urls_spotify', 'added_by_id', 'added_by_type',\n",
       "       'added_by_uri', 'track_preview_url', 'track_is_playable',\n",
       "       ...\n",
       "       'Unnamed: 102', 'Unnamed: 103', 'Unnamed: 104', 'Unnamed: 105',\n",
       "       'Unnamed: 106', 'Unnamed: 107', 'Unnamed: 108', 'Unnamed: 109',\n",
       "       'Unnamed: 110', 'Unnamed: 111'],\n",
       "      dtype='object', length=112)"
      ]
     },
     "execution_count": 7,
     "metadata": {},
     "output_type": "execute_result"
    }
   ],
   "source": [
    "df.columns"
   ]
  },
  {
   "cell_type": "code",
   "execution_count": 56,
   "id": "aaadac9f-4f84-46d5-b0fc-a507e9704101",
   "metadata": {},
   "outputs": [
    {
     "name": "stdout",
     "output_type": "stream",
     "text": [
      "Index(['added_at', 'primary_color', 'is_local',\n",
      "       'added_by_external_urls_spotify', 'added_by_id', 'added_by_type',\n",
      "       'added_by_uri', 'track_preview_url', 'track_is_playable',\n",
      "       'track_explicit',\n",
      "       ...\n",
      "       'Unnamed_102', 'Unnamed_103', 'Unnamed_104', 'Unnamed_105',\n",
      "       'Unnamed_106', 'Unnamed_107', 'Unnamed_108', 'Unnamed_109',\n",
      "       'Unnamed_110', 'Unnamed_111'],\n",
      "      dtype='object', length=111)\n"
     ]
    }
   ],
   "source": [
    "# Rename the columns by replacing 'Unnamed' with '_'\n",
    "df.columns = df.columns.str.replace('Unnamed: ', 'Unnamed_')\n",
    "\n",
    "# Check the updated column names\n",
    "print(df.columns)"
   ]
  },
  {
   "cell_type": "code",
   "execution_count": 30,
   "id": "fd717d1a-20ea-4ec7-a96b-faba7c63b016",
   "metadata": {},
   "outputs": [],
   "source": [
    "db=mysql.connector.connect(host='127.0.0.7',\n",
    "\tuser='pyguy',\n",
    "\tpasswd='Password1234!'\n",
    "\t)"
   ]
  },
  {
   "cell_type": "code",
   "execution_count": 34,
   "id": "e376bc3a-1577-4808-a7e5-f6dd44597609",
   "metadata": {},
   "outputs": [
    {
     "name": "stdout",
     "output_type": "stream",
     "text": [
      "('information_schema',)\n",
      "('mysql',)\n",
      "('opm_db',)\n",
      "('parks_and_recreation',)\n",
      "('performance_schema',)\n",
      "('reportcovid',)\n",
      "('sakila',)\n",
      "('sql_hr',)\n",
      "('sql_inventory',)\n",
      "('sql_invoicing',)\n",
      "('sql_store',)\n",
      "('sys',)\n",
      "('world',)\n"
     ]
    }
   ],
   "source": [
    "mycursor = db.cursor()\n",
    "\n",
    "mycursor.execute(\"SHOW DATABASES\")\n",
    "\n",
    "for x in mycursor:\n",
    "  print(x)\n"
   ]
  },
  {
   "cell_type": "code",
   "execution_count": 33,
   "id": "c94ccbae-ff8f-43a4-8472-add7142e7720",
   "metadata": {},
   "outputs": [],
   "source": [
    "# Create a new database\n",
    "mycursor.execute(\"CREATE DATABASE IF NOT EXISTS OPM_DB\")"
   ]
  },
  {
   "cell_type": "code",
   "execution_count": 80,
   "id": "2bea4c95-9b37-4640-858c-725743e47d9b",
   "metadata": {},
   "outputs": [],
   "source": [
    "# Close the connection\n",
    "mycursor.close()\n",
    "db.close()"
   ]
  },
  {
   "cell_type": "code",
   "execution_count": 81,
   "id": "d64a7286-f20b-4eac-94f5-95f7328d0b11",
   "metadata": {},
   "outputs": [],
   "source": [
    "db=mysql.connector.connect(host='127.0.0.7',\n",
    "\tuser='pyguy',\n",
    "\tpasswd='Password1234!',\n",
    "    database=\"opm_db\"\n",
    "\t)"
   ]
  },
  {
   "cell_type": "code",
   "execution_count": 83,
   "id": "78aa096b-4718-42ef-aa15-c65c0f943f4e",
   "metadata": {},
   "outputs": [
    {
     "data": {
      "text/plain": [
       "[]"
      ]
     },
     "execution_count": 83,
     "metadata": {},
     "output_type": "execute_result"
    }
   ],
   "source": [
    "mycursor = db.cursor()\n",
    "# Clear any pending results\n",
    "cursor.fetchall()"
   ]
  },
  {
   "cell_type": "code",
   "execution_count": 74,
   "id": "cda507cf-9afc-48d2-a5c6-deacc51c073b",
   "metadata": {},
   "outputs": [],
   "source": [
    "# Get column names and data types\n",
    "columns = df.columns\n",
    "column_types = []\n",
    "\n",
    "# Map pandas dtypes to MySQL types\n",
    "for col in columns:\n",
    "    dtype = df[col].dtype\n",
    "    if dtype == 'object':  # String columns\n",
    "        column_types.append(f\"{col} TEXT\")\n",
    "    elif dtype == 'int64':  # Integer columns\n",
    "        column_types.append(f\"{col} INT\")\n",
    "    elif dtype == 'float64':  # Float columns\n",
    "        column_types.append(f\"{col} FLOAT\")\n",
    "    elif dtype == 'datetime64[ns]':  # Datetime columns\n",
    "        column_types.append(f\"{col} DATETIME\")\n",
    "    else:\n",
    "        column_types.append(f\"{col} TEXT\")  # Default to TEXT\n"
   ]
  },
  {
   "cell_type": "code",
   "execution_count": 75,
   "id": "0aa01ac9-5fd3-4166-b88a-97fea6f72dfd",
   "metadata": {},
   "outputs": [],
   "source": [
    "# Create the table creation query\n",
    "create_table_query = f\"\"\"\n",
    "CREATE TABLE IF NOT EXISTS my_table (\n",
    "    id INT AUTO_INCREMENT PRIMARY KEY,\n",
    "    {', '.join(column_types)}\n",
    ")\n",
    "\"\"\""
   ]
  },
  {
   "cell_type": "code",
   "execution_count": null,
   "id": "f88b85b0-6d70-452d-857f-05f34ab9956d",
   "metadata": {},
   "outputs": [],
   "source": [
    "# Execute the query to create the table\n",
    "mycursor.execute(create_table_query)"
   ]
  },
  {
   "cell_type": "code",
   "execution_count": 87,
   "id": "ac4fe8e1-6c8b-4f0f-b3e1-9a4af429d149",
   "metadata": {},
   "outputs": [
    {
     "name": "stdout",
     "output_type": "stream",
     "text": [
      "CSV data inserted successfully!\n"
     ]
    }
   ],
   "source": [
    "import csv\n",
    "# Get the column names and create the insert query\n",
    "columns = df.columns\n",
    "insert_query = f\"\"\"\n",
    "INSERT INTO my_table ({', '.join(columns)}) \n",
    "VALUES ({', '.join(['%s'] * len(columns))})\n",
    "\"\"\"\n",
    "\n",
    "# Prepare the data as a list of tuples\n",
    "data = [tuple(row) for row in df.values]\n",
    "\n",
    "# Insert the data into the table in bulk\n",
    "mycursor.executemany(insert_query, data)\n",
    "\n",
    "# Commit the transaction\n",
    "db.commit()\n",
    "\n",
    "print(\"CSV data inserted successfully!\")\n",
    "\n"
   ]
  },
  {
   "cell_type": "code",
   "execution_count": 88,
   "id": "bab13ffc-6d55-47a2-b504-9af4cde84171",
   "metadata": {},
   "outputs": [],
   "source": [
    "# Close the connection\n",
    "mycursor.close()\n",
    "db.close()"
   ]
  },
  {
   "cell_type": "code",
   "execution_count": null,
   "id": "c2571179-7993-4804-b8d2-b216dcdcbcf3",
   "metadata": {},
   "outputs": [],
   "source": []
  }
 ],
 "metadata": {
  "kernelspec": {
   "display_name": "Python 3 (ipykernel)",
   "language": "python",
   "name": "python3"
  },
  "language_info": {
   "codemirror_mode": {
    "name": "ipython",
    "version": 3
   },
   "file_extension": ".py",
   "mimetype": "text/x-python",
   "name": "python",
   "nbconvert_exporter": "python",
   "pygments_lexer": "ipython3",
   "version": "3.12.3"
  }
 },
 "nbformat": 4,
 "nbformat_minor": 5
}
